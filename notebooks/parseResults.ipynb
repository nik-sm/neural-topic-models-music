{
 "cells": [
  {
   "cell_type": "code",
   "execution_count": 75,
   "metadata": {},
   "outputs": [],
   "source": [
    "import numpy as np\n",
    "import matplotlib.pyplot as plt\n",
    "from matplotlib.font_manager import FontProperties\n",
    "fontP = FontProperties()\n",
    "fontP.set_size('small')"
   ]
  },
  {
   "cell_type": "markdown",
   "metadata": {},
   "source": [
    "## Put baseline results into dictionary"
   ]
  },
  {
   "cell_type": "code",
   "execution_count": 54,
   "metadata": {},
   "outputs": [],
   "source": [
    "with open(\"../results/nikResults/baselines.txt\") as f:\n",
    "    baselines = f.readlines()"
   ]
  },
  {
   "cell_type": "code",
   "execution_count": 55,
   "metadata": {},
   "outputs": [],
   "source": [
    "baseResultLines = [b.strip() for b in baselines if b != \"\\n\"]"
   ]
  },
  {
   "cell_type": "code",
   "execution_count": 56,
   "metadata": {},
   "outputs": [
    {
     "data": {
      "text/plain": [
       "['./2019_05_26/baseline/k300/logr_doc2vec/accuracy.txt',\n",
       " '0.2775330396475771',\n",
       " './2019_05_26/baseline/k300/logr_word2vec/accuracy.txt',\n",
       " '0.40068081698037644',\n",
       " './2019_05_26/baseline/k20/logr_doc2vec/accuracy.txt',\n",
       " '0.24879855826992392',\n",
       " './2019_05_26/baseline/k20/logr_word2vec/accuracy.txt',\n",
       " '0.32689227072486987',\n",
       " './2019_05_26/baseline/k50/logr_doc2vec/accuracy.txt',\n",
       " '0.2617140568682419',\n",
       " './2019_05_26/baseline/k50/logr_word2vec/accuracy.txt',\n",
       " '0.35822987585102123',\n",
       " './2019_05_26/baseline/k100/logr_doc2vec/accuracy.txt',\n",
       " '0.2724269122947537',\n",
       " './2019_05_26/baseline/k100/logr_word2vec/accuracy.txt',\n",
       " '0.3800560672807369',\n",
       " './2019_05_26/baseline/k10/logr_doc2vec/accuracy.txt',\n",
       " '0.23317981577893473',\n",
       " './2019_05_26/baseline/k10/logr_word2vec/accuracy.txt',\n",
       " '0.3000600720865038']"
      ]
     },
     "execution_count": 56,
     "metadata": {},
     "output_type": "execute_result"
    }
   ],
   "source": [
    "baseResultLines"
   ]
  },
  {
   "cell_type": "code",
   "execution_count": 57,
   "metadata": {},
   "outputs": [],
   "source": [
    "baseDict={}\n",
    "for i in range(0,len(baseResultLines)-1, 2):\n",
    "    fullExpName = baseResultLines[i]\n",
    "    startNumTopics = fullExpName.find(\"k\")+1\n",
    "    endNumTopics = fullExpName.find(\"/logr\")\n",
    "    numTopics = fullExpName[startNumTopics:endNumTopics]\n",
    "    startMethod = fullExpName.find(\"/logr_\")+6\n",
    "    endMethodName = fullExpName.find(\"/accuracy\")\n",
    "    methodName = fullExpName[startMethod:endMethodName]\n",
    "    if methodName not in baseDict:\n",
    "        baseDict[methodName] = {}\n",
    "    baseDict[methodName][numTopics] = baseResultLines[i+1]"
   ]
  },
  {
   "cell_type": "code",
   "execution_count": 58,
   "metadata": {},
   "outputs": [
    {
     "data": {
      "text/plain": [
       "{'doc2vec': {'300': '0.2775330396475771',\n",
       "  '20': '0.24879855826992392',\n",
       "  '50': '0.2617140568682419',\n",
       "  '100': '0.2724269122947537',\n",
       "  '10': '0.23317981577893473'},\n",
       " 'word2vec': {'300': '0.40068081698037644',\n",
       "  '20': '0.32689227072486987',\n",
       "  '50': '0.35822987585102123',\n",
       "  '100': '0.3800560672807369',\n",
       "  '10': '0.3000600720865038'}}"
      ]
     },
     "execution_count": 58,
     "metadata": {},
     "output_type": "execute_result"
    }
   ],
   "source": [
    "baseDict"
   ]
  },
  {
   "cell_type": "markdown",
   "metadata": {},
   "source": [
    "## Put neural method results into dictionary"
   ]
  },
  {
   "cell_type": "code",
   "execution_count": 59,
   "metadata": {},
   "outputs": [],
   "source": [
    "with open(\"../results/nikResults/neural.txt\") as f:\n",
    "    neuralLines = f.readlines()\n",
    "neuralLines = [n.strip() for n in neuralLines if n != \"\\n\"]"
   ]
  },
  {
   "cell_type": "code",
   "execution_count": 60,
   "metadata": {},
   "outputs": [
    {
     "data": {
      "text/plain": [
       "['./2019_05_26/k300/scholar_supervised/accuracy.train.txt',\n",
       " '0.32455480311010787',\n",
       " './2019_05_26/k300/scholar_supervised/accuracy.test.txt',\n",
       " '0.3308610125765882',\n",
       " './2019_05_26/k300/logr_prodlda/accuracy.txt',\n",
       " '0.3627',\n",
       " './2019_05_26/k300/logr_scholar/accuracy.txt',\n",
       " '0.3478697749196141',\n",
       " './2019_05_26/k20/scholar_supervised/accuracy.train.txt',\n",
       " '0.3307750188111362',\n",
       " './2019_05_26/k20/scholar_supervised/accuracy.test.txt',\n",
       " '0.3232828119961303',\n",
       " './2019_05_26/k20/logr_prodlda/accuracy.txt',\n",
       " '0.3553',\n",
       " './2019_05_26/k20/logr_scholar/accuracy.txt',\n",
       " '0.31461012861736337',\n",
       " './2019_05_26/k50/scholar_supervised/accuracy.train.txt',\n",
       " '0.34431903686982696',\n",
       " './2019_05_26/k50/scholar_supervised/accuracy.test.txt',\n",
       " '0.3124798452112222',\n",
       " './2019_05_26/k50/logr_prodlda/accuracy.txt',\n",
       " '0.3684',\n",
       " './2019_05_26/k50/logr_scholar/accuracy.txt',\n",
       " '0.34375',\n",
       " './2019_05_26/k100/scholar_supervised/accuracy.train.txt',\n",
       " '0.3509907198394783',\n",
       " './2019_05_26/k100/scholar_supervised/accuracy.test.txt',\n",
       " '0.3331183489197033',\n",
       " './2019_05_26/k100/logr_prodlda/accuracy.txt',\n",
       " '0.3712',\n",
       " './2019_05_26/k100/logr_scholar/accuracy.txt',\n",
       " '0.34586012861736337',\n",
       " './2019_05_26/k10/scholar_supervised/accuracy.train.txt',\n",
       " '0.30754953599197393',\n",
       " './2019_05_26/k10/scholar_supervised/accuracy.test.txt',\n",
       " '0.27539503386004516',\n",
       " './2019_05_26/k10/logr_prodlda/accuracy.txt',\n",
       " '0.3385',\n",
       " './2019_05_26/k10/logr_scholar/accuracy.txt',\n",
       " '0.30104501607717044']"
      ]
     },
     "execution_count": 60,
     "metadata": {},
     "output_type": "execute_result"
    }
   ],
   "source": [
    "neuralLines"
   ]
  },
  {
   "cell_type": "code",
   "execution_count": 61,
   "metadata": {},
   "outputs": [],
   "source": [
    "for i in range(0,len(neuralLines)-1, 2):\n",
    "    fullExpName = neuralLines[i]\n",
    "    # Get num topics\n",
    "    startNumTopics = fullExpName.find(\"k\")+1\n",
    "    endNumTopics = fullExpName.find(\"/\",startNumTopics)\n",
    "    numTopics = fullExpName[startNumTopics:endNumTopics]\n",
    "    # Get method name\n",
    "    startMethod = fullExpName.find(\"/\", endNumTopics)+1\n",
    "    endMethodName = fullExpName.find(\"/\", startMethod)\n",
    "    methodName = fullExpName[startMethod:endMethodName]\n",
    "    # Put into dictionary\n",
    "    if methodName not in baseDict:\n",
    "        baseDict[methodName] = {}\n",
    "    baseDict[methodName][numTopics] = neuralLines[i+1]"
   ]
  },
  {
   "cell_type": "code",
   "execution_count": 62,
   "metadata": {},
   "outputs": [
    {
     "data": {
      "text/plain": [
       "{'doc2vec': {'300': '0.2775330396475771',\n",
       "  '20': '0.24879855826992392',\n",
       "  '50': '0.2617140568682419',\n",
       "  '100': '0.2724269122947537',\n",
       "  '10': '0.23317981577893473'},\n",
       " 'word2vec': {'300': '0.40068081698037644',\n",
       "  '20': '0.32689227072486987',\n",
       "  '50': '0.35822987585102123',\n",
       "  '100': '0.3800560672807369',\n",
       "  '10': '0.3000600720865038'},\n",
       " 'scholar_supervised': {'300': '0.3308610125765882',\n",
       "  '20': '0.3232828119961303',\n",
       "  '50': '0.3124798452112222',\n",
       "  '100': '0.3331183489197033',\n",
       "  '10': '0.27539503386004516'},\n",
       " 'logr_prodlda': {'300': '0.3627',\n",
       "  '20': '0.3553',\n",
       "  '50': '0.3684',\n",
       "  '100': '0.3712',\n",
       "  '10': '0.3385'},\n",
       " 'logr_scholar': {'300': '0.3478697749196141',\n",
       "  '20': '0.31461012861736337',\n",
       "  '50': '0.34375',\n",
       "  '100': '0.34586012861736337',\n",
       "  '10': '0.30104501607717044'}}"
      ]
     },
     "execution_count": 62,
     "metadata": {},
     "output_type": "execute_result"
    }
   ],
   "source": [
    "baseDict"
   ]
  },
  {
   "cell_type": "code",
   "execution_count": 100,
   "metadata": {},
   "outputs": [
    {
     "data": {
      "text/plain": [
       "([<matplotlib.axis.XTick at 0x1164cd2b0>,\n",
       "  <matplotlib.axis.XTick at 0x1164cd828>,\n",
       "  <matplotlib.axis.XTick at 0x1164cdba8>,\n",
       "  <matplotlib.axis.XTick at 0x116618e10>,\n",
       "  <matplotlib.axis.XTick at 0x116546320>],\n",
       " <a list of 5 Text xticklabel objects>)"
      ]
     },
     "execution_count": 100,
     "metadata": {},
     "output_type": "execute_result"
    },
    {
     "data": {
      "image/png": "[encoded data removed]",
      "text/plain": [
       "<Figure size 432x288 with 1 Axes>"
      ]
     },
     "metadata": {
      "needs_background": "light"
     },
     "output_type": "display_data"
    }
   ],
   "source": [
    "plt.title(\"Model Accuracy by Latent Dimension\")\n",
    "plt.ylabel(\"Accuracy\")\n",
    "plt.xlabel(\"Latent Dimension\")\n",
    "for model,vals in baseDict.items():\n",
    "    dimAndAcc = []\n",
    "    for latentDim, acc in vals.items():\n",
    "        dimAndAcc.append((latentDim, acc))\n",
    "    dimAndAcc = sorted(dimAndAcc, key=lambda tup: int(tup[0]))\n",
    "    accs = [float(t[1]) for t in dimAndAcc]\n",
    "    plt.plot(accs, label=model)\n",
    "    plt.legend(bbox_to_anchor=(1.01, 1), loc='upper left')\n",
    "plt.xticks(range(5), [10,20,50,100,300])\n",
    "\n"
   ]
  },
  {
   "cell_type": "code",
   "execution_count": null,
   "metadata": {},
   "outputs": [],
   "source": []
  }
 ],
 "metadata": {
  "kernelspec": {
   "display_name": "py36",
   "language": "python",
   "name": "py36"
  },
  "language_info": {
   "codemirror_mode": {
    "name": "ipython",
    "version": 3
   },
   "file_extension": ".py",
   "mimetype": "text/x-python",
   "name": "python",
   "nbconvert_exporter": "python",
   "pygments_lexer": "ipython3",
   "version": "3.6.0"
  }
 },
 "nbformat": 4,
 "nbformat_minor": 2
}
