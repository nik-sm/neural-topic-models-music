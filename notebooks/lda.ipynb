{
 "cells": [
  {
   "cell_type": "code",
   "execution_count": 60,
   "metadata": {},
   "outputs": [],
   "source": [
    "import lda\n",
    "import numpy as np\n",
    "import pandas as pd\n",
    "import matplotlib.pyplot as plt"
   ]
  },
  {
   "cell_type": "code",
   "execution_count": 2,
   "metadata": {},
   "outputs": [],
   "source": [
    "X = lda.datasets.load_reuters()"
   ]
  },
  {
   "cell_type": "code",
   "execution_count": 3,
   "metadata": {},
   "outputs": [
    {
     "data": {
      "text/plain": [
       "array([[1, 0, 1, ..., 0, 0, 0],\n",
       "       [7, 0, 2, ..., 0, 0, 0],\n",
       "       [0, 0, 0, ..., 0, 0, 0],\n",
       "       ...,\n",
       "       [1, 0, 1, ..., 0, 0, 0],\n",
       "       [1, 0, 1, ..., 0, 0, 0],\n",
       "       [1, 0, 1, ..., 0, 0, 0]], dtype=int32)"
      ]
     },
     "execution_count": 3,
     "metadata": {},
     "output_type": "execute_result"
    }
   ],
   "source": [
    "X"
   ]
  },
  {
   "cell_type": "code",
   "execution_count": 65,
   "metadata": {},
   "outputs": [],
   "source": [
    "topK = pd.read_pickle(\"../data/topBagofWords50k.pickle\").fillna(0)"
   ]
  },
  {
   "cell_type": "code",
   "execution_count": 66,
   "metadata": {},
   "outputs": [],
   "source": [
    "df = pd.read_pickle(\"../data/lyrics_clean.pickle\")"
   ]
  },
  {
   "cell_type": "code",
   "execution_count": 74,
   "metadata": {
    "scrolled": true
   },
   "outputs": [],
   "source": [
    "topK[\"get\"] = 0\n",
    "topK[\"got\"] = 0\n",
    "topK[\"like\"] = 0\n",
    "topK[\"let\"] = 0"
   ]
  },
  {
   "cell_type": "code",
   "execution_count": 78,
   "metadata": {},
   "outputs": [],
   "source": [
    "model = lda.LDA(n_topics=10, n_iter=3000, random_state=1)"
   ]
  },
  {
   "cell_type": "code",
   "execution_count": 79,
   "metadata": {},
   "outputs": [
    {
     "name": "stderr",
     "output_type": "stream",
     "text": [
      "INFO:lda:n_documents: 50000\n",
      "INFO:lda:vocab_size: 2000\n",
      "INFO:lda:n_words: 4829004\n",
      "INFO:lda:n_topics: 10\n",
      "INFO:lda:n_iter: 3000\n",
      "WARNING:lda:all zero row in document-term matrix found\n",
      "WARNING:lda:all zero column in document-term matrix found\n",
      "INFO:lda:<0> log likelihood: -44746988\n",
      "INFO:lda:<10> log likelihood: -37482596\n",
      "INFO:lda:<20> log likelihood: -35439411\n",
      "INFO:lda:<30> log likelihood: -35045186\n",
      "INFO:lda:<40> log likelihood: -34872944\n",
      "INFO:lda:<50> log likelihood: -34779933\n",
      "INFO:lda:<60> log likelihood: -34710590\n",
      "INFO:lda:<70> log likelihood: -34653741\n",
      "INFO:lda:<80> log likelihood: -34624451\n",
      "INFO:lda:<90> log likelihood: -34588150\n",
      "INFO:lda:<100> log likelihood: -34563624\n",
      "INFO:lda:<110> log likelihood: -34548499\n",
      "INFO:lda:<120> log likelihood: -34534914\n",
      "INFO:lda:<130> log likelihood: -34516041\n",
      "INFO:lda:<140> log likelihood: -34499115\n",
      "INFO:lda:<150> log likelihood: -34492561\n",
      "INFO:lda:<160> log likelihood: -34485965\n",
      "INFO:lda:<170> log likelihood: -34480229\n",
      "INFO:lda:<180> log likelihood: -34474204\n",
      "INFO:lda:<190> log likelihood: -34467519\n",
      "INFO:lda:<200> log likelihood: -34468212\n",
      "INFO:lda:<210> log likelihood: -34458210\n",
      "INFO:lda:<220> log likelihood: -34457029\n",
      "INFO:lda:<230> log likelihood: -34451433\n",
      "INFO:lda:<240> log likelihood: -34453880\n",
      "INFO:lda:<250> log likelihood: -34447459\n",
      "INFO:lda:<260> log likelihood: -34440215\n",
      "INFO:lda:<270> log likelihood: -34443057\n",
      "INFO:lda:<280> log likelihood: -34436337\n",
      "INFO:lda:<290> log likelihood: -34432796\n",
      "INFO:lda:<300> log likelihood: -34431502\n",
      "INFO:lda:<310> log likelihood: -34432683\n",
      "INFO:lda:<320> log likelihood: -34431528\n",
      "INFO:lda:<330> log likelihood: -34431665\n",
      "INFO:lda:<340> log likelihood: -34424611\n",
      "INFO:lda:<350> log likelihood: -34427150\n",
      "INFO:lda:<360> log likelihood: -34427331\n",
      "INFO:lda:<370> log likelihood: -34429368\n",
      "INFO:lda:<380> log likelihood: -34423807\n",
      "INFO:lda:<390> log likelihood: -34428070\n",
      "INFO:lda:<400> log likelihood: -34428302\n",
      "INFO:lda:<410> log likelihood: -34429437\n",
      "INFO:lda:<420> log likelihood: -34421967\n",
      "INFO:lda:<430> log likelihood: -34428545\n",
      "INFO:lda:<440> log likelihood: -34426801\n",
      "INFO:lda:<450> log likelihood: -34429401\n",
      "INFO:lda:<460> log likelihood: -34422407\n",
      "INFO:lda:<470> log likelihood: -34426041\n",
      "INFO:lda:<480> log likelihood: -34427614\n",
      "INFO:lda:<490> log likelihood: -34423596\n",
      "INFO:lda:<500> log likelihood: -34424708\n",
      "INFO:lda:<510> log likelihood: -34423588\n",
      "INFO:lda:<520> log likelihood: -34420295\n",
      "INFO:lda:<530> log likelihood: -34422698\n",
      "INFO:lda:<540> log likelihood: -34419452\n",
      "INFO:lda:<550> log likelihood: -34423730\n",
      "INFO:lda:<560> log likelihood: -34424387\n",
      "INFO:lda:<570> log likelihood: -34430844\n",
      "INFO:lda:<580> log likelihood: -34424674\n",
      "INFO:lda:<590> log likelihood: -34424679\n",
      "INFO:lda:<600> log likelihood: -34424323\n",
      "INFO:lda:<610> log likelihood: -34428103\n",
      "INFO:lda:<620> log likelihood: -34423544\n",
      "INFO:lda:<630> log likelihood: -34421529\n",
      "INFO:lda:<640> log likelihood: -34422775\n",
      "INFO:lda:<650> log likelihood: -34420895\n",
      "INFO:lda:<660> log likelihood: -34422721\n",
      "INFO:lda:<670> log likelihood: -34419674\n",
      "INFO:lda:<680> log likelihood: -34427834\n",
      "INFO:lda:<690> log likelihood: -34423490\n",
      "INFO:lda:<700> log likelihood: -34418732\n",
      "INFO:lda:<710> log likelihood: -34428010\n",
      "INFO:lda:<720> log likelihood: -34425186\n",
      "INFO:lda:<730> log likelihood: -34424127\n",
      "INFO:lda:<740> log likelihood: -34424232\n",
      "INFO:lda:<750> log likelihood: -34424322\n",
      "INFO:lda:<760> log likelihood: -34423269\n",
      "INFO:lda:<770> log likelihood: -34425595\n",
      "INFO:lda:<780> log likelihood: -34421810\n",
      "INFO:lda:<790> log likelihood: -34421840\n",
      "INFO:lda:<800> log likelihood: -34423894\n",
      "INFO:lda:<810> log likelihood: -34425596\n",
      "INFO:lda:<820> log likelihood: -34428600\n",
      "INFO:lda:<830> log likelihood: -34414573\n",
      "INFO:lda:<840> log likelihood: -34415628\n",
      "INFO:lda:<850> log likelihood: -34418179\n",
      "INFO:lda:<860> log likelihood: -34421133\n",
      "INFO:lda:<870> log likelihood: -34416010\n",
      "INFO:lda:<880> log likelihood: -34422377\n",
      "INFO:lda:<890> log likelihood: -34418146\n",
      "INFO:lda:<900> log likelihood: -34412762\n",
      "INFO:lda:<910> log likelihood: -34419115\n",
      "INFO:lda:<920> log likelihood: -34419265\n",
      "INFO:lda:<930> log likelihood: -34412580\n",
      "INFO:lda:<940> log likelihood: -34419798\n",
      "INFO:lda:<950> log likelihood: -34423296\n",
      "INFO:lda:<960> log likelihood: -34422044\n",
      "INFO:lda:<970> log likelihood: -34416356\n",
      "INFO:lda:<980> log likelihood: -34415246\n",
      "INFO:lda:<990> log likelihood: -34414896\n",
      "INFO:lda:<1000> log likelihood: -34410827\n",
      "INFO:lda:<1010> log likelihood: -34411646\n",
      "INFO:lda:<1020> log likelihood: -34409642\n",
      "INFO:lda:<1030> log likelihood: -34417063\n",
      "INFO:lda:<1040> log likelihood: -34414225\n",
      "INFO:lda:<1050> log likelihood: -34411395\n",
      "INFO:lda:<1060> log likelihood: -34409855\n",
      "INFO:lda:<1070> log likelihood: -34408136\n",
      "INFO:lda:<1080> log likelihood: -34415939\n",
      "INFO:lda:<1090> log likelihood: -34412732\n",
      "INFO:lda:<1100> log likelihood: -34409850\n",
      "INFO:lda:<1110> log likelihood: -34407258\n",
      "INFO:lda:<1120> log likelihood: -34408338\n",
      "INFO:lda:<1130> log likelihood: -34408771\n",
      "INFO:lda:<1140> log likelihood: -34409061\n",
      "INFO:lda:<1150> log likelihood: -34407540\n",
      "INFO:lda:<1160> log likelihood: -34410159\n",
      "INFO:lda:<1170> log likelihood: -34404940\n",
      "INFO:lda:<1180> log likelihood: -34407920\n",
      "INFO:lda:<1190> log likelihood: -34403380\n",
      "INFO:lda:<1200> log likelihood: -34404077\n",
      "INFO:lda:<1210> log likelihood: -34405849\n",
      "INFO:lda:<1220> log likelihood: -34395390\n",
      "INFO:lda:<1230> log likelihood: -34395855\n",
      "INFO:lda:<1240> log likelihood: -34398103\n",
      "INFO:lda:<1250> log likelihood: -34399668\n",
      "INFO:lda:<1260> log likelihood: -34398997\n",
      "INFO:lda:<1270> log likelihood: -34395640\n",
      "INFO:lda:<1280> log likelihood: -34392088\n",
      "INFO:lda:<1290> log likelihood: -34397381\n",
      "INFO:lda:<1300> log likelihood: -34391101\n",
      "INFO:lda:<1310> log likelihood: -34389464\n",
      "INFO:lda:<1320> log likelihood: -34387511\n",
      "INFO:lda:<1330> log likelihood: -34385789\n",
      "INFO:lda:<1340> log likelihood: -34384677\n",
      "INFO:lda:<1350> log likelihood: -34379396\n",
      "INFO:lda:<1360> log likelihood: -34380991\n",
      "INFO:lda:<1370> log likelihood: -34379446\n",
      "INFO:lda:<1380> log likelihood: -34375245\n",
      "INFO:lda:<1390> log likelihood: -34380317\n",
      "INFO:lda:<1400> log likelihood: -34375090\n",
      "INFO:lda:<1410> log likelihood: -34375234\n",
      "INFO:lda:<1420> log likelihood: -34374016\n",
      "INFO:lda:<1430> log likelihood: -34375491\n",
      "INFO:lda:<1440> log likelihood: -34370421\n",
      "INFO:lda:<1450> log likelihood: -34370875\n",
      "INFO:lda:<1460> log likelihood: -34369720\n",
      "INFO:lda:<1470> log likelihood: -34370016\n",
      "INFO:lda:<1480> log likelihood: -34370480\n",
      "INFO:lda:<1490> log likelihood: -34362844\n",
      "INFO:lda:<1500> log likelihood: -34363518\n",
      "INFO:lda:<1510> log likelihood: -34364115\n",
      "INFO:lda:<1520> log likelihood: -34359145\n",
      "INFO:lda:<1530> log likelihood: -34367273\n",
      "INFO:lda:<1540> log likelihood: -34363721\n",
      "INFO:lda:<1550> log likelihood: -34357877\n",
      "INFO:lda:<1560> log likelihood: -34360396\n",
      "INFO:lda:<1570> log likelihood: -34358176\n",
      "INFO:lda:<1580> log likelihood: -34356545\n",
      "INFO:lda:<1590> log likelihood: -34356414\n",
      "INFO:lda:<1600> log likelihood: -34358659\n",
      "INFO:lda:<1610> log likelihood: -34350957\n",
      "INFO:lda:<1620> log likelihood: -34347940\n",
      "INFO:lda:<1630> log likelihood: -34354560\n",
      "INFO:lda:<1640> log likelihood: -34347877\n",
      "INFO:lda:<1650> log likelihood: -34347331\n",
      "INFO:lda:<1660> log likelihood: -34347190\n",
      "INFO:lda:<1670> log likelihood: -34345157\n",
      "INFO:lda:<1680> log likelihood: -34347443\n",
      "INFO:lda:<1690> log likelihood: -34345902\n",
      "INFO:lda:<1700> log likelihood: -34343565\n",
      "INFO:lda:<1710> log likelihood: -34348093\n",
      "INFO:lda:<1720> log likelihood: -34348265\n",
      "INFO:lda:<1730> log likelihood: -34343904\n",
      "INFO:lda:<1740> log likelihood: -34339660\n",
      "INFO:lda:<1750> log likelihood: -34339268\n",
      "INFO:lda:<1760> log likelihood: -34336169\n",
      "INFO:lda:<1770> log likelihood: -34341920\n",
      "INFO:lda:<1780> log likelihood: -34339059\n",
      "INFO:lda:<1790> log likelihood: -34335062\n",
      "INFO:lda:<1800> log likelihood: -34337276\n",
      "INFO:lda:<1810> log likelihood: -34335887\n",
      "INFO:lda:<1820> log likelihood: -34336453\n",
      "INFO:lda:<1830> log likelihood: -34337349\n",
      "INFO:lda:<1840> log likelihood: -34335474\n",
      "INFO:lda:<1850> log likelihood: -34336397\n",
      "INFO:lda:<1860> log likelihood: -34338782\n",
      "INFO:lda:<1870> log likelihood: -34332466\n",
      "INFO:lda:<1880> log likelihood: -34329507\n",
      "INFO:lda:<1890> log likelihood: -34332987\n",
      "INFO:lda:<1900> log likelihood: -34336620\n",
      "INFO:lda:<1910> log likelihood: -34328043\n",
      "INFO:lda:<1920> log likelihood: -34327793\n"
     ]
    },
    {
     "name": "stderr",
     "output_type": "stream",
     "text": [
      "INFO:lda:<1930> log likelihood: -34335595\n",
      "INFO:lda:<1940> log likelihood: -34334074\n",
      "INFO:lda:<1950> log likelihood: -34336209\n",
      "INFO:lda:<1960> log likelihood: -34332122\n",
      "INFO:lda:<1970> log likelihood: -34329316\n",
      "INFO:lda:<1980> log likelihood: -34337911\n",
      "INFO:lda:<1990> log likelihood: -34332700\n",
      "INFO:lda:<2000> log likelihood: -34335964\n",
      "INFO:lda:<2010> log likelihood: -34335182\n",
      "INFO:lda:<2020> log likelihood: -34333584\n",
      "INFO:lda:<2030> log likelihood: -34328723\n",
      "INFO:lda:<2040> log likelihood: -34332451\n",
      "INFO:lda:<2050> log likelihood: -34330137\n",
      "INFO:lda:<2060> log likelihood: -34327039\n",
      "INFO:lda:<2070> log likelihood: -34332257\n",
      "INFO:lda:<2080> log likelihood: -34330533\n",
      "INFO:lda:<2090> log likelihood: -34326850\n",
      "INFO:lda:<2100> log likelihood: -34323740\n",
      "INFO:lda:<2110> log likelihood: -34328697\n",
      "INFO:lda:<2120> log likelihood: -34331015\n",
      "INFO:lda:<2130> log likelihood: -34327940\n",
      "INFO:lda:<2140> log likelihood: -34327483\n",
      "INFO:lda:<2150> log likelihood: -34330101\n",
      "INFO:lda:<2160> log likelihood: -34324051\n",
      "INFO:lda:<2170> log likelihood: -34329256\n",
      "INFO:lda:<2180> log likelihood: -34327545\n",
      "INFO:lda:<2190> log likelihood: -34328669\n",
      "INFO:lda:<2200> log likelihood: -34327985\n",
      "INFO:lda:<2210> log likelihood: -34327749\n",
      "INFO:lda:<2220> log likelihood: -34335183\n",
      "INFO:lda:<2230> log likelihood: -34326637\n",
      "INFO:lda:<2240> log likelihood: -34328149\n",
      "INFO:lda:<2250> log likelihood: -34326306\n",
      "INFO:lda:<2260> log likelihood: -34333816\n",
      "INFO:lda:<2270> log likelihood: -34332257\n",
      "INFO:lda:<2280> log likelihood: -34336504\n",
      "INFO:lda:<2290> log likelihood: -34333482\n",
      "INFO:lda:<2300> log likelihood: -34331461\n",
      "INFO:lda:<2310> log likelihood: -34330324\n",
      "INFO:lda:<2320> log likelihood: -34330273\n",
      "INFO:lda:<2330> log likelihood: -34329384\n",
      "INFO:lda:<2340> log likelihood: -34330776\n",
      "INFO:lda:<2350> log likelihood: -34331059\n",
      "INFO:lda:<2360> log likelihood: -34328821\n",
      "INFO:lda:<2370> log likelihood: -34330561\n",
      "INFO:lda:<2380> log likelihood: -34328563\n",
      "INFO:lda:<2390> log likelihood: -34333177\n",
      "INFO:lda:<2400> log likelihood: -34331668\n",
      "INFO:lda:<2410> log likelihood: -34332264\n",
      "INFO:lda:<2420> log likelihood: -34330687\n",
      "INFO:lda:<2430> log likelihood: -34334908\n",
      "INFO:lda:<2440> log likelihood: -34333137\n",
      "INFO:lda:<2450> log likelihood: -34330024\n",
      "INFO:lda:<2460> log likelihood: -34332962\n",
      "INFO:lda:<2470> log likelihood: -34331827\n",
      "INFO:lda:<2480> log likelihood: -34326284\n",
      "INFO:lda:<2490> log likelihood: -34329950\n",
      "INFO:lda:<2500> log likelihood: -34335240\n",
      "INFO:lda:<2510> log likelihood: -34344360\n",
      "INFO:lda:<2520> log likelihood: -34331129\n",
      "INFO:lda:<2530> log likelihood: -34329225\n",
      "INFO:lda:<2540> log likelihood: -34333433\n",
      "INFO:lda:<2550> log likelihood: -34333704\n",
      "INFO:lda:<2560> log likelihood: -34327856\n",
      "INFO:lda:<2570> log likelihood: -34326221\n",
      "INFO:lda:<2580> log likelihood: -34328316\n",
      "INFO:lda:<2590> log likelihood: -34327194\n",
      "INFO:lda:<2600> log likelihood: -34331181\n",
      "INFO:lda:<2610> log likelihood: -34334512\n",
      "INFO:lda:<2620> log likelihood: -34328363\n",
      "INFO:lda:<2630> log likelihood: -34330225\n",
      "INFO:lda:<2640> log likelihood: -34324540\n",
      "INFO:lda:<2650> log likelihood: -34331970\n",
      "INFO:lda:<2660> log likelihood: -34332580\n",
      "INFO:lda:<2670> log likelihood: -34331425\n",
      "INFO:lda:<2680> log likelihood: -34330341\n",
      "INFO:lda:<2690> log likelihood: -34331112\n",
      "INFO:lda:<2700> log likelihood: -34332485\n",
      "INFO:lda:<2710> log likelihood: -34329350\n",
      "INFO:lda:<2720> log likelihood: -34327864\n",
      "INFO:lda:<2730> log likelihood: -34334824\n",
      "INFO:lda:<2740> log likelihood: -34333517\n",
      "INFO:lda:<2750> log likelihood: -34330652\n",
      "INFO:lda:<2760> log likelihood: -34332743\n",
      "INFO:lda:<2770> log likelihood: -34333682\n",
      "INFO:lda:<2780> log likelihood: -34333342\n",
      "INFO:lda:<2790> log likelihood: -34337451\n",
      "INFO:lda:<2800> log likelihood: -34333753\n",
      "INFO:lda:<2810> log likelihood: -34330898\n",
      "INFO:lda:<2820> log likelihood: -34328129\n",
      "INFO:lda:<2830> log likelihood: -34322936\n",
      "INFO:lda:<2840> log likelihood: -34327774\n",
      "INFO:lda:<2850> log likelihood: -34333518\n",
      "INFO:lda:<2860> log likelihood: -34329036\n",
      "INFO:lda:<2870> log likelihood: -34331217\n",
      "INFO:lda:<2880> log likelihood: -34331416\n",
      "INFO:lda:<2890> log likelihood: -34330700\n",
      "INFO:lda:<2900> log likelihood: -34329944\n",
      "INFO:lda:<2910> log likelihood: -34329802\n",
      "INFO:lda:<2920> log likelihood: -34332595\n",
      "INFO:lda:<2930> log likelihood: -34328827\n",
      "INFO:lda:<2940> log likelihood: -34327423\n",
      "INFO:lda:<2950> log likelihood: -34332621\n",
      "INFO:lda:<2960> log likelihood: -34331111\n",
      "INFO:lda:<2970> log likelihood: -34332817\n",
      "INFO:lda:<2980> log likelihood: -34327712\n",
      "INFO:lda:<2990> log likelihood: -34328679\n",
      "INFO:lda:<2999> log likelihood: -34326321\n"
     ]
    },
    {
     "data": {
      "text/plain": [
       "<lda.lda.LDA at 0x12928e6d8>"
      ]
     },
     "execution_count": 79,
     "metadata": {},
     "output_type": "execute_result"
    }
   ],
   "source": [
    "model.fit(topK.values.astype(int))"
   ]
  },
  {
   "cell_type": "code",
   "execution_count": 77,
   "metadata": {},
   "outputs": [
    {
     "data": {
      "text/plain": [
       "[<matplotlib.lines.Line2D at 0x12933a9e8>]"
      ]
     },
     "execution_count": 77,
     "metadata": {},
     "output_type": "execute_result"
    },
    {
     "data": {
      "image/png": "[encoded data removed]",
      "text/plain": [
       "<Figure size 432x288 with 1 Axes>"
      ]
     },
     "metadata": {
      "needs_background": "light"
     },
     "output_type": "display_data"
    }
   ],
   "source": [
    "plt.plot(model.loglikelihoods_[5:])"
   ]
  },
  {
   "cell_type": "code",
   "execution_count": 71,
   "metadata": {},
   "outputs": [],
   "source": [
    "topic_word = model.topic_word_  # model.components_ also works"
   ]
  },
  {
   "cell_type": "code",
   "execution_count": 72,
   "metadata": {},
   "outputs": [
    {
     "name": "stdout",
     "output_type": "stream",
     "text": [
      "Topic 0: oh hey ooh whoa yeah uh oo woah ay eh know ho ohh like\n",
      "Topic 1: away take heart never fall time tri break noth leav know feel left go\n",
      "Topic 2: love heart one give know feel never kiss make true ever forev like mine\n",
      "Topic 3: life live world one us time peopl new see chang free make way stand\n",
      "Topic 4: come back home go run around way round ride take road town citi know\n",
      "Topic 5: day time one gone long night cri last everi away rememb still year miss\n",
      "Topic 6: choru na im x dont vers u repeat cant know aint uh like ill\n",
      "Topic 7: die burn blood fire dead kill death lie pain soul eye life hell end\n",
      "Topic 8: god lord us heaven soul angel come jesu king pray name born sing call\n",
      "Topic 9: feel see eye look dream hold wait like close keep light insid know find\n",
      "Topic 10: nigga like get got fuck shit ya bitch em know caus yo money back\n",
      "Topic 11: got said well one littl man like old two look big get head back\n",
      "Topic 12: let go wanna tonight danc take get feel stop make come readi right night\n",
      "Topic 13: babi want know need got love tell caus right yeah wanna feel girl crazi\n",
      "Topic 14: know never say could think tell would thing like see go want ever way\n",
      "Topic 15: sky like sun light star fli rain shine night wind blue moon sea see\n",
      "Topic 16: rock song sing like roll play music n beat hear c sound e listen\n",
      "Topic 17: yeah la da ah ha ba doo bye de hello oh say shoot dee\n",
      "Topic 18: get got gonna make way gotta littl know time better caus right take keep\n",
      "Topic 19: girl like man boy good bad woman look got ladi make see talk dem\n"
     ]
    }
   ],
   "source": [
    "n_top_words = 15\n",
    "for i, topic_dist in enumerate(topic_word):\n",
    "    topic_words = np.array(topK.keys())[np.argsort(topic_dist)][:-n_top_words:-1]\n",
    "    print('Topic {}: {}'.format(i, ' '.join(topic_words)))"
   ]
  },
  {
   "cell_type": "code",
   "execution_count": 37,
   "metadata": {},
   "outputs": [],
   "source": [
    "doc_topic = model.doc_topic_"
   ]
  },
  {
   "cell_type": "code",
   "execution_count": 51,
   "metadata": {},
   "outputs": [
    {
     "name": "stdout",
     "output_type": "stream",
     "text": [
      "\"step of faith\" - carman (top topic: 11)\n",
      "\"her devotion\" - dreadful-shadows (top topic: 11)\n",
      "\"from the inside out\" - for-king-country (top topic: 14)\n",
      "\"all the wrong places jack beats remix\" - example (top topic: 7)\n",
      "\"vision\" - funker-vogt (top topic: 3)\n",
      "\"in the depths of a labyrinth\" - aurora-borealis (top topic: 9)\n",
      "\"that dont bother me\" - catherine-britt (top topic: 12)\n",
      "\"this old heart of mine is weak for you\" - diana-ross-the-supremes (top topic: 16)\n",
      "\"tabula rasa\" - covenant (top topic: 3)\n",
      "\"that s what s up\" - 50-cent (top topic: 15)\n"
     ]
    }
   ],
   "source": [
    "for i in range(10):\n",
    "    songNum = np.random.randint(0,topK.shape[0])\n",
    "    print('\"{}\" - {} (top topic: {})'.format(df[\"song\"][songNum].replace(\"-\",\" \"), df[\"artist\"][songNum], doc_topic[songNum].argmax()))"
   ]
  },
  {
   "cell_type": "code",
   "execution_count": null,
   "metadata": {},
   "outputs": [],
   "source": []
  }
 ],
 "metadata": {
  "kernelspec": {
   "display_name": "Python 3",
   "language": "python",
   "name": "python3"
  },
  "language_info": {
   "codemirror_mode": {
    "name": "ipython",
    "version": 3
   },
   "file_extension": ".py",
   "mimetype": "text/x-python",
   "name": "python",
   "nbconvert_exporter": "python",
   "pygments_lexer": "ipython3",
   "version": "3.6.0"
  }
 },
 "nbformat": 4,
 "nbformat_minor": 2
}
